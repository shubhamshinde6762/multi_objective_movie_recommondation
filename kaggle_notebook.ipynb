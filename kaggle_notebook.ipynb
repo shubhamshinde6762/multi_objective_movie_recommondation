 {
 "cells": [
  {
   "cell_type": "markdown",
   "metadata": {},
   "source": [
    "# Movie Recommender System with Quantum Computing\n",
    "\n",
    "This notebook implements a movie recommender system using quantum computing and topological data analysis."
   ]
  },
  {
   "cell_type": "code",
   "execution_count": null,
   "metadata": {},
   "source": [
    "# Install dependencies\n",
    "!pip install -q torch-geometric==2.3.1 qiskit==1.0.2 qiskit-machine-learning==0.5.0 qiskit-aer==0.12.0 pennylane==0.30.0 fastdtw==0.3.4\n",
    "!pip install -q gudhi==3.7.0 pot==0.9.0"
   ]
  },
  {
   "cell_type": "code",
   "execution_count": null,
   "metadata": {},
   "source": [
    "import os\n",
    "import sys\n",
    "import logging\n",
    "from pathlib import Path\n",
    "import torch\n",
    "import torch.optim as optim\n",
    "from tqdm import tqdm\n",
    "import pandas as pd\n",
    "import numpy as np\n",
    "import matplotlib.pyplot as plt\n",
    "import seaborn as sns\n",
    "import networkx as nx\n",
    "from gudhi import RipsComplex\n",
    "import ot\n",
    "from scipy.stats import hypergeom\n",
    "from qiskit import QuantumCircuit, Aer, execute\n",
    "from qiskit.circuit import Parameter\n",
    "from qiskit.quantum_info import Statevector\n",
    "from qiskit_machine_learning.neural_networks import CircuitQNN\n",
    "from qiskit_machine_learning.connectors import TorchConnector\n",
    "import pennylane as qml\n",
    "from pennylane import numpy as np\n",
    "from fastdtw import fastdtw\n",
    "from scipy.spatial.distance import euclidean"
   ]
  },
  {
   "cell_type": "code",
   "execution_count": null,
   "metadata": {},
   "source": [
    "# Set up logging\n",
    "logging.basicConfig(\n",
    "    level=logging.INFO,\n",
    "    format='%(asctime)s - %(name)s - %(levelname)s - %(message)s',\n",
    "    handlers=[\n",
    "        logging.StreamHandler(sys.stdout)\n",
    "    ]\n",
    ")\n",
    "logger = logging.getLogger(__name__)"
   ]
  },
  {
   "cell_type": "code",
   "execution_count": null,
   "metadata": {},
   "source": [
    "# Create necessary directories\n",
    "os.makedirs('data', exist_ok=True)\n",
    "os.makedirs('models', exist_ok=True)\n",
    "os.makedirs('results', exist_ok=True)"
   ]
  },
  {
   "cell_type": "code",
   "execution_count": null,
   "metadata": {},
   "source": [
    "# Download MovieLens 100K dataset\n",
    "!wget -q https://files.grouplens.org/datasets/movielens/ml-100k.zip\n",
    "!unzip -q ml-100k.zip\n",
    "!mv ml-100k/* data/\n",
    "!rm -rf ml-100k ml-100k.zip"
   ]
  },
  {
   "cell_type": "code",
   "execution_count": null,
   "metadata": {},
   "source": [
    "# Copy project files to Kaggle environment\n",
    "!mkdir -p src/data src/models src/analysis\n",
    "!cp -r /kaggle/input/movie-recommender-project/* ."
   ]
  },
  {
   "cell_type": "code",
   "execution_count": null,
   "metadata": {},
   "source": [
    "# Import project modules\n",
    "from src.data.processor import DataProcessor\n",
    "from src.models.quantum_model import QuantumModel\n",
    "from src.analysis.analyzer import TopologicalAnalyzer, OutlierDetector, FairnessAnalyzer"
   ]
  },
  {
   "cell_type": "code",
   "execution_count": null,
   "metadata": {},
   "source": [
    "# Load and preprocess data\n",
    "logger.info(\"Loading and preprocessing data...\")\n",
    "data_processor = DataProcessor()\n",
    "data_processor.load_data()\n",
    "data_processor.preprocess_data()\n",
    "ratings, users, movies, graph, edge_index, edge_attr, fft_values = data_processor.get_processed_data()\n",
    "data_processor.save_processed_data(Path('results/processed_data'))"
   ]
  },
  {
   "cell_type": "code",
   "execution_count": null,
   "metadata": {},
   "source": [
    "# Perform topological analysis\n",
    "logger.info(\"Performing topological analysis...\")\n",
    "topological_analyzer = TopologicalAnalyzer()\n",
    "persistence, landscape = topological_analyzer.analyze_genres(movies)\n",
    "topological_analyzer.save_analysis(Path('results/topology'))"
   ]
  },
  {
   "cell_type": "code",
   "execution_count": null,
   "metadata": {},
   "source": [
    "# Detect outliers\n",
    "logger.info(\"Detecting outliers...\")\n",
    "outlier_detector = OutlierDetector()\n",
    "outlier_scores = outlier_detector.detect_outliers(ratings, users)\n",
    "outlier_detector.save_outliers(Path('results/outliers'))"
   ]
  },
  {
   "cell_type": "code",
   "execution_count": null,
   "metadata": {},
   "source": [
    "# Analyze fairness\n",
    "logger.info(\"Analyzing fairness...\")\n",
    "fairness_analyzer = FairnessAnalyzer()\n",
    "fairness_scores = fairness_analyzer.analyze_fairness(ratings, users)\n",
    "fairness_analyzer.save_fairness(Path('results/fairness'))"
   ]
  },
  {
   "cell_type": "code",
   "execution_count": null,
   "metadata": {},
   "source": [
    "# Prepare data for quantum model\n",
    "logger.info(\"Preparing data for quantum model...\")\n",
    "X = torch.tensor(ratings[['rating', 'time_decay']].values, dtype=torch.float32)\n",
    "y = torch.tensor(ratings['rating'].values, dtype=torch.float32).view(-1, 1)"
   ]
  },
  {
   "cell_type": "code",
   "execution_count": null,
   "metadata": {},
   "source": [
    "# Initialize and train quantum model\n",
    "logger.info(\"Training quantum model...\")\n",
    "model = QuantumModel(n_qubits=2, n_layers=2)\n",
    "optimizer = optim.Adam(model.parameters(), lr=0.01)\n",
    "\n",
    "n_epochs = 10\n",
    "batch_size = 32\n",
    "n_batches = len(X) // batch_size\n",
    "\n",
    "for epoch in tqdm(range(n_epochs), desc=\"Training\"):\n",
    "    epoch_loss = 0.0\n",
    "    for batch_idx in range(n_batches):\n",
    "        start_idx = batch_idx * batch_size\n",
    "        end_idx = start_idx + batch_size\n",
    "        \n",
    "        X_batch = X[start_idx:end_idx]\n",
    "        y_batch = y[start_idx:end_idx]\n",
    "        \n",
    "        loss = model.train_step(X_batch, y_batch, optimizer)\n",
    "        epoch_loss += loss\n",
    "    \n",
    "    avg_loss = epoch_loss / n_batches\n",
    "    logger.info(f\"Epoch {epoch + 1}/{n_epochs}, Loss: {avg_loss:.4f}\")"
   ]
  },
  {
   "cell_type": "code",
   "execution_count": null,
   "metadata": {},
   "source": [
    "# Save trained model\n",
    "logger.info(\"Saving trained model...\")\n",
    "model.save(Path('models/quantum_model.pt'))"
   ]
  },
  {
   "cell_type": "code",
   "execution_count": null,
   "metadata": {},
   "source": [
    "# Make predictions\n",
    "logger.info(\"Making predictions...\")\n",
    "predictions = model.predict(X)\n",
    "\n",
    "# Save predictions\n",
    "pd.DataFrame({\n",
    "    'user_id': ratings['user_id'],\n",
    "    'movie_id': ratings['movie_id'],\n",
    "    'actual_rating': ratings['rating'],\n",
    "    'predicted_rating': predictions.numpy().flatten()\n",
    "}).to_csv('results/predictions.csv', index=False)"
   ]
  },
  {
   "cell_type": "code",
   "execution_count": null,
   "metadata": {},
   "source": [
    "# Visualize results\n",
    "plt.figure(figsize=(12, 6))\n",
    "sns.scatterplot(x='actual_rating', y='predicted_rating', data=pd.read_csv('results/predictions.csv'))\n",
    "plt.title('Actual vs Predicted Ratings')\n",
    "plt.xlabel('Actual Rating')\n",
    "plt.ylabel('Predicted Rating')\n",
    "plt.savefig('results/predictions_plot.png')\n",
    "plt.close()"
   ]
  }
 ],
 "metadata": {
  "kernelspec": {
   "display_name": "Python 3",
   "language": "python",
   "name": "python3"
  },
  "language_info": {
   "codemirror_mode": {
    "name": "ipython",
    "version": 3
   },
   "file_extension": ".py",
   "mimetype": "text/x-python",
   "name": "python",
   "nbconvert_exporter": "python",
   "pygments_lexer": "ipython3",
   "version": "3.8.10"
  }
 },
 "nbformat": 4,
 "nbformat_minor": 4
}
